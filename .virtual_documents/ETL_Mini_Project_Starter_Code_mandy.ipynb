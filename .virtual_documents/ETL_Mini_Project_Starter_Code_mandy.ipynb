# Import dependencies
import pandas as pd
import numpy as np
pd.set_option('max_colwidth', 400)





# Read the data into a Pandas DataFrame
crowdfunding_info_df = pd.read_excel('Resources/crowdfunding.xlsx')
crowdfunding_info_df.head()


# Get a brief summary of the crowdfunding_info DataFrame.
crowdfunding_info_df.info()





# Get the crowdfunding_info_df columns.
crowdfunding_info_df.columns


# Assign the category and subcategory values to category and subcategory columns.
crowdfunding_info_df[["category", "subcategory"]] = crowdfunding_info_df["category & sub-category"].str.split('/', n=2, expand=True)
crowdfunding_info_df.head()


# Get the unique categories and subcategories in separate lists.
categories = crowdfunding_info_df["category"].unique().tolist()
subcategories = crowdfunding_info_df["subcategory"].unique().tolist()
print(categories)
print(subcategories)


# Get the number of distinct values in the categories and subcategories lists.
print(len(categories))
print(len(subcategories))


# Create numpy arrays from 1-9 for the categories and 1-24 for the subcategories.
category_ids = np.arange(1, 10)
subcategory_ids = np.arange(1, 25)

print(category_ids)
print(subcategory_ids)


# Use a list comprehension to add "cat" to each category_id. 
cat_ids = []
for x in category_ids:
    cat_ids.append((f'cat{x}'))

# Use a list comprehension to add "subcat" to each subcategory_id.    

subcat_ids = []
for y in subcategory_ids:
    subcat_ids.append(f'subcat{y}')

print(cat_ids)
print(subcat_ids)


# Create a category DataFrame with the category_id array as the category_id and categories list as the category name.
category_df = pd.DataFrame({'category_ids': cat_ids, 'category': categories})
# Create a category DataFrame with the subcategory_id array as the subcategory_id and subcategories list as the subcategory name. 
subcategory_df = pd.DataFrame({'subcategory_ids': subcat_ids, 'subcategory': subcategories})


category_df


subcategory_df


# Export categories_df and subcategories_df as CSV files.
category_df.to_csv("Resources/category.csv", index=False)

subcategory_df.to_csv("Resources/subcategory.csv", index=False)





# Create a copy of the crowdfunding_info_df DataFrame name campaign_df. 
campaign_df = crowdfunding_info_df.copy()
campaign_df.head()


# Rename the blurb, launched_at, and deadline columns.
campaign_df = campaign_df.rename(columns={"blurb": "description",
                                              "launched_at": "launch_date",
                                              "deadline": "end_date"})
campaign_df.head()


# Convert the goal and pledged columns to a `float` data type.
campaign_df[["goal","pledged"]] = campaign_df[["goal","pledged"]].astype('float')


# Check the datatypes
campaign_df.info()


# Format the launched_date and end_date columns to datetime format
from datetime import datetime as dt
campaign_df["launch_date"] = pd.to_datetime(campaign_df["launch_date"], unit='s').dt.strftime('%Y-%m-%d')
campaign_df["end_date"] = pd.to_datetime(campaign_df["end_date"], unit='s').dt.strftime('%Y-%m-%d')
campaign_df


# Merge the campaign_df with the category_df on the "category" column and 
# the subcategory_df on the "subcategory" column.
mergestep1df = campaign_df.merge(category_df , on='category')
campaign_merged_df = mergestep1df.merge(subcategory_df, on = 'subcategory')
campaign_merged_df.tail(10)


# Drop unwanted columns
campaign_cleaned=campaign_merged_df.drop(['staff_pick','spotlight','category & sub-category'],axis =1)
campaign_cleaned


# Export the DataFrame as a CSV file. 
campaign_cleaned.to_csv("Resources/campaign.csv", index=False)





# Read the data into a Pandas DataFrame. Use the `header=2` parameter when reading in the data.
contact_info_df = pd.read_excel('Resources/contacts.xlsx', header=2)
contact_info_df.head()








# Iterate through the contact_info_df and convert each row to a dictionary.
import json
dict_values = []


# Print out the list of values for each row.
print(dict_values)


# Create a contact_info DataFrame and add each list of values, i.e., each row 
# to the 'contact_id', 'name', 'email' columns.



# Check the datatypes.



# Create a "first"name" and "last_name" column with the first and last names from the "name" column. 


# Drop the contact_name column




# Reorder the columns



# Check the datatypes one more time before exporting as CSV file.



# Export the DataFrame as a CSV file. 
contacts_df_clean.to_csv("Resources/contacts.csv", encoding='utf8', index=False)





contact_info_df_copy = contact_info_df.copy()
contact_info_df_copy.head()


# Extract the four-digit contact ID number.



# Check the datatypes.



# Convert the "contact_id" column to an int64 data type.



# Extract the name of the contact and add it to a new column.



# Extract the email from the contacts and add the values to a new column.



# Create a copy of the contact_info_df with the 'contact_id', 'name', 'email' columns.



# Create a "first"name" and "last_name" column with the first and last names from the "name" column. 


# Drop the contact_name column



# Reorder the columns



# Check the datatypes one more time before exporting as CSV file.



# Export the DataFrame as a CSV file. 
# contacts_df_clean.to_csv("Resources/contacts.csv", encoding='utf8', index=False)



